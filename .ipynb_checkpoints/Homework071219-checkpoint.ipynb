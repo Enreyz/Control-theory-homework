{
 "cells": [
  {
   "cell_type": "code",
   "execution_count": 32,
   "metadata": {},
   "outputs": [],
   "source": [
    "import sympy as sp\n",
    "import numpy as np"
   ]
  },
  {
   "cell_type": "code",
   "execution_count": 33,
   "metadata": {},
   "outputs": [],
   "source": [
    "def param_system(**kwargs):\n",
    "    a = 5\n",
    "    thetta = [1,1,1]\n",
    "    \n",
    "    if 'a' in kwargs:\n",
    "        a = kwargs['a']\n",
    "    \n",
    "    if 'thetta' in kwargs:\n",
    "        thetta = kwargs['thetta']\n",
    "        \n",
    "    def control(x):\n",
    "        return np.dot(thetta, x)\n",
    "    \n",
    "    def system(t, x: np.array):\n",
    "        return np.array([\n",
    "            x[1],\n",
    "            x[0] + x[3],\n",
    "            -x[1] + a * x[2] + control(x)\n",
    "        ])\n",
    "    return system"
   ]
  },
  {
   "cell_type": "code",
   "execution_count": 34,
   "metadata": {},
   "outputs": [],
   "source": [
    "A = sp.Matrix([[0, 1, 0], [1, 0 , 1], [0, -1, -5]])\n",
    "B = sp.Matrix([0,0,1])"
   ]
  },
  {
   "cell_type": "code",
   "execution_count": 35,
   "metadata": {},
   "outputs": [
    {
     "data": {
      "text/plain": [
       "Matrix([\n",
       "[0,  1,  0],\n",
       "[1,  0,  1],\n",
       "[0, -1, -5]])"
      ]
     },
     "execution_count": 35,
     "metadata": {},
     "output_type": "execute_result"
    }
   ],
   "source": [
    "A"
   ]
  },
  {
   "cell_type": "code",
   "execution_count": 36,
   "metadata": {},
   "outputs": [
    {
     "data": {
      "text/plain": [
       "Matrix([\n",
       "[0],\n",
       "[0],\n",
       "[1]])"
      ]
     },
     "execution_count": 36,
     "metadata": {},
     "output_type": "execute_result"
    }
   ],
   "source": [
    "B"
   ]
  },
  {
   "cell_type": "code",
   "execution_count": 37,
   "metadata": {},
   "outputs": [],
   "source": [
    "C = B\n",
    "C = C.row_join(A*B)\n",
    "C = C.row_join(A*A*B)"
   ]
  },
  {
   "cell_type": "code",
   "execution_count": 38,
   "metadata": {},
   "outputs": [
    {
     "data": {
      "text/plain": [
       "Matrix([\n",
       "[0,  0,  1],\n",
       "[0,  1, -5],\n",
       "[1, -5, 24]])"
      ]
     },
     "execution_count": 38,
     "metadata": {},
     "output_type": "execute_result"
    }
   ],
   "source": [
    "C"
   ]
  },
  {
   "cell_type": "code",
   "execution_count": 39,
   "metadata": {},
   "outputs": [
    {
     "data": {
      "text/plain": [
       "3"
      ]
     },
     "execution_count": 39,
     "metadata": {},
     "output_type": "execute_result"
    }
   ],
   "source": [
    "C.rank()"
   ]
  },
  {
   "cell_type": "code",
   "execution_count": 40,
   "metadata": {},
   "outputs": [],
   "source": [
    "C_inv = C.inv()"
   ]
  },
  {
   "cell_type": "code",
   "execution_count": 41,
   "metadata": {},
   "outputs": [
    {
     "data": {
      "text/plain": [
       "Matrix([\n",
       "[1, 5, 1],\n",
       "[5, 1, 0],\n",
       "[1, 0, 0]])"
      ]
     },
     "execution_count": 41,
     "metadata": {},
     "output_type": "execute_result"
    }
   ],
   "source": [
    "C_inv"
   ]
  },
  {
   "cell_type": "code",
   "execution_count": 42,
   "metadata": {},
   "outputs": [],
   "source": [
    "A1 = C_inv * A * C"
   ]
  },
  {
   "cell_type": "code",
   "execution_count": 43,
   "metadata": {},
   "outputs": [
    {
     "data": {
      "text/plain": [
       "Matrix([\n",
       "[0, 0,  5],\n",
       "[1, 0,  0],\n",
       "[0, 1, -5]])"
      ]
     },
     "execution_count": 43,
     "metadata": {},
     "output_type": "execute_result"
    }
   ],
   "source": [
    "A1"
   ]
  },
  {
   "cell_type": "code",
   "execution_count": 44,
   "metadata": {},
   "outputs": [
    {
     "data": {
      "text/plain": [
       "'\\\\left[\\\\begin{matrix}0 & 0 & 5\\\\\\\\1 & 0 & 0\\\\\\\\0 & 1 & -5\\\\end{matrix}\\\\right]'"
      ]
     },
     "execution_count": 44,
     "metadata": {},
     "output_type": "execute_result"
    }
   ],
   "source": [
    "sp.latex(A1)"
   ]
  },
  {
   "cell_type": "code",
   "execution_count": 45,
   "metadata": {},
   "outputs": [],
   "source": [
    "B1 = C_inv * B"
   ]
  },
  {
   "cell_type": "code",
   "execution_count": 46,
   "metadata": {},
   "outputs": [
    {
     "data": {
      "text/plain": [
       "Matrix([\n",
       "[1],\n",
       "[0],\n",
       "[0]])"
      ]
     },
     "execution_count": 46,
     "metadata": {},
     "output_type": "execute_result"
    }
   ],
   "source": [
    "B1"
   ]
  },
  {
   "cell_type": "code",
   "execution_count": 47,
   "metadata": {},
   "outputs": [
    {
     "data": {
      "text/plain": [
       "'\\\\left[\\\\begin{matrix}1\\\\\\\\0\\\\\\\\0\\\\end{matrix}\\\\right]'"
      ]
     },
     "execution_count": 47,
     "metadata": {},
     "output_type": "execute_result"
    }
   ],
   "source": [
    "sp.latex(B1)"
   ]
  },
  {
   "cell_type": "code",
   "execution_count": 52,
   "metadata": {},
   "outputs": [
    {
     "data": {
      "text/plain": [
       "Matrix([\n",
       "[ 1],\n",
       "[-5],\n",
       "[24]])"
      ]
     },
     "execution_count": 52,
     "metadata": {},
     "output_type": "execute_result"
    }
   ],
   "source": [
    "A2 = A1.transpose()\n",
    "# B2 = B1.inv()\n",
    "A*B\n",
    "A * A * B"
   ]
  },
  {
   "cell_type": "code",
   "execution_count": null,
   "metadata": {},
   "outputs": [],
   "source": [
    "for i in A.eigenvals().keys():\n",
    "    print(i.evalf())"
   ]
  },
  {
   "cell_type": "code",
   "execution_count": 61,
   "metadata": {},
   "outputs": [
    {
     "ename": "ShapeError",
     "evalue": "Matrix size mismatch: (3, 1) * (3, 3).",
     "output_type": "error",
     "traceback": [
      "\u001b[1;31m---------------------------------------------------------------------------\u001b[0m",
      "\u001b[1;31mShapeError\u001b[0m                                Traceback (most recent call last)",
      "\u001b[1;32m<ipython-input-61-0796e955e57a>\u001b[0m in \u001b[0;36m<module>\u001b[1;34m\u001b[0m\n\u001b[0;32m      4\u001b[0m \u001b[0mZ\u001b[0m \u001b[1;33m=\u001b[0m \u001b[0msp\u001b[0m\u001b[1;33m.\u001b[0m\u001b[0mMatrix\u001b[0m\u001b[1;33m(\u001b[0m\u001b[1;33m[\u001b[0m\u001b[1;33m[\u001b[0m\u001b[1;36m0\u001b[0m\u001b[1;33m]\u001b[0m\u001b[1;33m,\u001b[0m\u001b[1;33m[\u001b[0m\u001b[1;36m0\u001b[0m\u001b[1;33m]\u001b[0m\u001b[1;33m,\u001b[0m\u001b[1;33m[\u001b[0m\u001b[1;36m1\u001b[0m\u001b[1;33m]\u001b[0m\u001b[1;33m]\u001b[0m\u001b[1;33m)\u001b[0m\u001b[1;33m\u001b[0m\u001b[1;33m\u001b[0m\u001b[0m\n\u001b[0;32m      5\u001b[0m \u001b[1;33m\u001b[0m\u001b[0m\n\u001b[1;32m----> 6\u001b[1;33m \u001b[0mZ\u001b[0m \u001b[1;33m*\u001b[0m \u001b[0mA\u001b[0m\u001b[1;33m\u001b[0m\u001b[1;33m\u001b[0m\u001b[0m\n\u001b[0m\u001b[0;32m      7\u001b[0m \u001b[1;33m\u001b[0m\u001b[0m\n\u001b[0;32m      8\u001b[0m \u001b[1;31m#A_invv = A.inv()\u001b[0m\u001b[1;33m\u001b[0m\u001b[1;33m\u001b[0m\u001b[1;33m\u001b[0m\u001b[0m\n",
      "\u001b[1;32m~\\Anaconda3\\lib\\site-packages\\sympy\\core\\decorators.py\u001b[0m in \u001b[0;36mbinary_op_wrapper\u001b[1;34m(self, other)\u001b[0m\n\u001b[0;32m    130\u001b[0m                     \u001b[1;32melse\u001b[0m\u001b[1;33m:\u001b[0m\u001b[1;33m\u001b[0m\u001b[1;33m\u001b[0m\u001b[0m\n\u001b[0;32m    131\u001b[0m                         \u001b[1;32mreturn\u001b[0m \u001b[0mf\u001b[0m\u001b[1;33m(\u001b[0m\u001b[0mself\u001b[0m\u001b[1;33m)\u001b[0m\u001b[1;33m\u001b[0m\u001b[1;33m\u001b[0m\u001b[0m\n\u001b[1;32m--> 132\u001b[1;33m             \u001b[1;32mreturn\u001b[0m \u001b[0mfunc\u001b[0m\u001b[1;33m(\u001b[0m\u001b[0mself\u001b[0m\u001b[1;33m,\u001b[0m \u001b[0mother\u001b[0m\u001b[1;33m)\u001b[0m\u001b[1;33m\u001b[0m\u001b[1;33m\u001b[0m\u001b[0m\n\u001b[0m\u001b[0;32m    133\u001b[0m         \u001b[1;32mreturn\u001b[0m \u001b[0mbinary_op_wrapper\u001b[0m\u001b[1;33m\u001b[0m\u001b[1;33m\u001b[0m\u001b[0m\n\u001b[0;32m    134\u001b[0m     \u001b[1;32mreturn\u001b[0m \u001b[0mpriority_decorator\u001b[0m\u001b[1;33m\u001b[0m\u001b[1;33m\u001b[0m\u001b[0m\n",
      "\u001b[1;32m~\\Anaconda3\\lib\\site-packages\\sympy\\matrices\\common.py\u001b[0m in \u001b[0;36m__mul__\u001b[1;34m(self, other)\u001b[0m\n\u001b[0;32m   2022\u001b[0m             \u001b[1;32mif\u001b[0m \u001b[0mself\u001b[0m\u001b[1;33m.\u001b[0m\u001b[0mshape\u001b[0m\u001b[1;33m[\u001b[0m\u001b[1;36m1\u001b[0m\u001b[1;33m]\u001b[0m \u001b[1;33m!=\u001b[0m \u001b[0mother\u001b[0m\u001b[1;33m.\u001b[0m\u001b[0mshape\u001b[0m\u001b[1;33m[\u001b[0m\u001b[1;36m0\u001b[0m\u001b[1;33m]\u001b[0m\u001b[1;33m:\u001b[0m\u001b[1;33m\u001b[0m\u001b[1;33m\u001b[0m\u001b[0m\n\u001b[0;32m   2023\u001b[0m                 raise ShapeError(\"Matrix size mismatch: %s * %s.\" % (\n\u001b[1;32m-> 2024\u001b[1;33m                     self.shape, other.shape))\n\u001b[0m\u001b[0;32m   2025\u001b[0m \u001b[1;33m\u001b[0m\u001b[0m\n\u001b[0;32m   2026\u001b[0m         \u001b[1;31m# honest sympy matrices defer to their class's routine\u001b[0m\u001b[1;33m\u001b[0m\u001b[1;33m\u001b[0m\u001b[1;33m\u001b[0m\u001b[0m\n",
      "\u001b[1;31mShapeError\u001b[0m: Matrix size mismatch: (3, 1) * (3, 3)."
     ]
    }
   ],
   "source": [
    "A = sp.Matrix([[-3.394, 3.862, 1], [6.439, 5.919 , 1], [0, 0, 1]])\n",
    "B = sp.Matrix([[0, 1, 0], [1, 0 , 1], [0, -1, -5]])\n",
    "\n",
    "Z = sp.Matrix([[0],[0],[1]])\n",
    "\n",
    "Z * A\n",
    "\n",
    "#A_invv = A.inv()\n",
    "#print(sp.latex(A_invv))\n",
    "#X = A * B * A_invv\n",
    "#print(sp.latex(X))"
   ]
  },
  {
   "cell_type": "markdown",
   "metadata": {},
   "source": [
    "### (В) Пара собственных чисел $\\lambda_{2} \\approx -1.138$ и $\\lambda_{3} \\approx 0.919$ перешла в пару комплексно сопряженных чисел $-1.5 \\pm 2.4i$ в левой полуплоскости комплексной плоскости "
   ]
  },
  {
   "cell_type": "markdown",
   "metadata": {},
   "source": [
    "Запишем модель в виде:\n",
    "\n",
    "$\\dot x = \\left[\\begin{matrix}0 & 1 & 0\\\\1 & 0 & 1\\\\0 & -1 & -5\\end{matrix}\\right]x + \\left[\\begin{matrix}0\\\\0\\\\1\\end{matrix}\\right]u $\n",
    "\n",
    "Найдем матрицу $C\\{A, B\\}$:\n",
    "\n",
    "$A * B = \\left[\\begin{matrix}0 & 1 & 0\\\\1 & 0 & 1\\\\0 & -1 & -5\\end{matrix}\\right] *  \\left[\\begin{matrix}0\\\\0\\\\1\\end{matrix}\\right] = \\left[\\begin{matrix}0\\\\1\\\\-5\\end{matrix}\\right]$\n",
    "\n",
    "$A^2 = \\left[\\begin{matrix}0 & 1 & 0\\\\1 & 0 & 1\\\\0 & -1 & -5\\end{matrix}\\right] * \\left[\\begin{matrix}0 & 1 & 0\\\\1 & 0 & 1\\\\0 & -1 & -5\\end{matrix}\\right] = \\left[\\begin{matrix}1 & 0 & 1\\\\0 & 0 & -5\\\\-1 & 5 & 24\\end{matrix}\\right]$\n",
    "\n",
    "$A^2 * B = \\left[\\begin{matrix}1 & 0 & 1\\\\0 & 0 & -5\\\\-1 & 5 & 24\\end{matrix}\\right] *  \\left[\\begin{matrix}0\\\\0\\\\1\\end{matrix}\\right] = \\left[\\begin{matrix}1\\\\-5\\\\24\\end{matrix}\\right]$\n",
    "\n",
    "$ C\\{A, B\\} = \\{B, AB, A^2B\\} = \\left[\\begin{matrix}0 & 0 & 1\\\\0 & 1 & -5\\\\1 & -5 & 24\\end{matrix}\\right]$\n",
    "\n",
    "Её ранг:\n",
    "\n",
    "$rank C\\{A, B\\} = 3$ \n",
    "\n",
    "Отсюда делаем вывод, что система управляема.\n",
    "\n",
    "Найдем $V_{2}$ и $V_{3}$ – левые собственные векторы матрицы $A$, соответствующие $\\lambda_{2} \\approx -1.138$ и $\\lambda_{3} \\approx 0.919$:\n",
    "\n",
    "Сначала $V_{2}$:\n",
    "\n",
    "$V^T_{2}A = -1.138V^T_{2}$ \n",
    "\n",
    "$V^T_{2}(A + 1.138I) = 0$ \n",
    "\n",
    "$\\left[\\begin{matrix}V_{1} & V_{2} & V_{3}\\end{matrix}\\right] * \\left[\\begin{matrix}1.138 & 1 & 0\\\\1 & 1.138 & 1\\\\0 & -1 & -3.862\\end{matrix}\\right] = 0$\n",
    "\n",
    "$\\left[\\begin{matrix}1.138V_{1} + V_{2}\\\\V_{1} + 1.138V_{2} - V_{3}\\\\V_{2} - 3.862V_{3}\\end{matrix}\\right] = 0$\n",
    "\n",
    "Пусть $V_{3} = 1$\n",
    "\n",
    "Тогда:\n",
    "\n",
    "$V_{2} = \\left[\\begin{matrix}-3.394\\\\3.862\\\\1\\end{matrix}\\right]$\n",
    "\n",
    "Аналогично для $V_{3}$:\n",
    "\n",
    "$V^T_{3}A = 0.919V^T_{3}$ \n",
    "\n",
    "$V^T_{3}(A - 0.919I) = 0$ \n",
    "\n",
    "$\\left[\\begin{matrix}V_{1} & V_{2} & V_{3}\\end{matrix}\\right] * \\left[\\begin{matrix}-0.919 & 1 & 0\\\\1 & -0.919 & 1\\\\0 & -1 & -5.919\\end{matrix}\\right] = 0$\n",
    "\n",
    "$\\left[\\begin{matrix}-0.919V_{1} + V_{2}\\\\V_{1} - 0.919V_{2} - V_{3}\\\\V_{2} - 5.919V_{3}\\end{matrix}\\right] = 0$\n",
    "\n",
    "Пусть $V_{3} = 1$\n",
    "\n",
    "Тогда:\n",
    "\n",
    "$V_{3} = \\left[\\begin{matrix}6.439\\\\5.919\\\\1\\end{matrix}\\right]$\n",
    "\n",
    "Теперь мы можем записать матрицу $P^{-1}$, строчками которой являются найденные собственные вектора. В качестве третьего вектора выберем линейно независимый с остальными.\n",
    "\n",
    "$P^{-1} = \\left[\\begin{matrix}-3.394 & 3.862 & 1\\\\6.439 & 5.919 & 1\\\\0 & 0 & 1\\end{matrix}\\right]$\n",
    "\n",
    "Тогда матрица $P$ будет равна:\n",
    "\n",
    "$P = \\left[\\begin{matrix}-0.132 & 0.086 & 0.047\\\\0.143 & 0.076 & -0.219\\\\0 & 0 & 1\\end{matrix}\\right]$\n",
    "\n",
    "$\\hat{A} = P^{-1}AP = \\left[\\begin{matrix}-3.394 & 3.862 & 1\\\\6.439 & 5.919 & 1\\\\0 & 0 & 1\\end{matrix}\\right] * \\left[\\begin{matrix}0 & 1 & 0\\\\1 & 0 & 1\\\\0 & -1 & -5\\end{matrix}\\right] * \\left[\\begin{matrix}-0.132 & 0.086 & 0.047\\\\0.143 & 0.076 & -0.219\\\\0 & 0 & 1\\end{matrix}\\right] = \\left[\\begin{matrix}-1.138 & 0 & 0\\\\0 & 0.919 & 0\\\\-0.143 & -0.076 & -4.781\\end{matrix}\\right]$\n",
    "\n",
    "$\\hat{B} = P^{-1}B =  \\left[\\begin{matrix}-3.394 & 3.862 & 1\\\\6.439 & 5.919 & 1\\\\0 & 0 & 1\\end{matrix}\\right] * \\left[\\begin{matrix}0\\\\0\\\\1\\end{matrix}\\right] = \\left[\\begin{matrix}1\\\\1\\\\1\\end{matrix}\\right]$\n",
    "\n",
    "Управление:\n",
    "\n",
    "$\\hat{\\theta} = \\left[\\begin{matrix}\\theta_{1} & \\theta_{2} & 0\\end{matrix}\\right]$\n",
    "\n",
    "$A_{c} = \\hat{A} + \\hat{B}\\hat{\\theta} = \\left[\\begin{matrix}\\theta_{1}-1.138 & \\theta_{2} & 0\\\\\\theta_{1} & \\theta_{2} + 0.919 & 0\\\\\\theta_{1} -0.143 & \\theta_{2}-0.076 & -4.781\\end{matrix}\\right]$\n",
    "\n",
    "У полученной матрицы рассматриваем главный минор 2-го порядка. Запишем его характеристический многочлен:\n",
    "\n",
    "$\\left[\\begin{matrix}\\theta_{1}-1.138 - \\lambda & \\theta_{2} \\\\\\theta_{1} & \\theta_{2} + 0.919 - \\lambda\\end{matrix}\\right] = \\lambda^2 - (\\theta_{1} + \\theta_{2} - 0.219)\\lambda + (0.919\\theta_{1} - 1.138\\theta_{2} - 1.046)$\n",
    "\n",
    "По теореме Виетта:\n",
    "\n",
    "$\\left\\{\n",
    "  \\begin{array}{ccc}\n",
    "    \\theta_{1} + \\theta_{2} - 0.219 = \\lambda_{1}^* + \\lambda_{2}^* \\\\\n",
    "    0.919\\theta_{1} - 1.138\\theta_{2} - 1.046 = \\lambda_{1}^* \\lambda_{2}^* \\\\\n",
    "  \\end{array}\n",
    "\\right.$\n",
    "\n",
    "Подставляем желаемые моды:\n",
    "\n",
    "$\\left\\{\n",
    "  \\begin{array}{ccc}\n",
    "    \\theta_{1} + \\theta_{2} - 0.219 = \\lambda_{1}^* + \\lambda_{2}^* = -3\\\\\n",
    "    0.919\\theta_{1} - 1.138\\theta_{2} - 1.046 = \\lambda_{1}^* \\lambda_{2}^* = 8.01\\\\\n",
    "  \\end{array}\n",
    "\\right.$\n",
    "\n",
    "Отсюда находим $\\theta_{1}$ и $\\theta_{2}$:\n",
    "\n",
    "Из первого выражения получаем: $\\theta_{1} = -2.781 - \\theta_{2}$\n",
    "\n",
    "Подставляем во второе и получаем: $\\theta_{2} = -5.645$ \n",
    "\n",
    "Тогда $\\theta_{1} = -2.781 + 5.644987 = 2.864$\n",
    "\n",
    "Получаем: $\\hat{\\theta} = \\left[\\begin{matrix}2.864 & -5.645 & 0\\end{matrix}\\right]$\n",
    "\n",
    "$u = \\theta x= \\hat{\\theta}P^{-1}x = $"
   ]
  },
  {
   "cell_type": "code",
   "execution_count": null,
   "metadata": {},
   "outputs": [],
   "source": []
  }
 ],
 "metadata": {
  "kernelspec": {
   "display_name": "Python 3",
   "language": "python",
   "name": "python3"
  },
  "language_info": {
   "codemirror_mode": {
    "name": "ipython",
    "version": 3
   },
   "file_extension": ".py",
   "mimetype": "text/x-python",
   "name": "python",
   "nbconvert_exporter": "python",
   "pygments_lexer": "ipython3",
   "version": "3.7.1"
  }
 },
 "nbformat": 4,
 "nbformat_minor": 2
}
