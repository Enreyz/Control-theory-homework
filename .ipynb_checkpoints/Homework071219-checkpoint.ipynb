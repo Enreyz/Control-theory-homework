{
 "cells": [
  {
   "cell_type": "code",
   "execution_count": 32,
   "metadata": {},
   "outputs": [],
   "source": [
    "import sympy as sp\n",
    "import numpy as np"
   ]
  },
  {
   "cell_type": "code",
   "execution_count": 33,
   "metadata": {},
   "outputs": [],
   "source": [
    "def param_system(**kwargs):\n",
    "    a = 5\n",
    "    thetta = [1,1,1]\n",
    "    \n",
    "    if 'a' in kwargs:\n",
    "        a = kwargs['a']\n",
    "    \n",
    "    if 'thetta' in kwargs:\n",
    "        thetta = kwargs['thetta']\n",
    "        \n",
    "    def control(x):\n",
    "        return np.dot(thetta, x)\n",
    "    \n",
    "    def system(t, x: np.array):\n",
    "        return np.array([\n",
    "            x[1],\n",
    "            x[0] + x[3],\n",
    "            -x[1] + a * x[2] + control(x)\n",
    "        ])\n",
    "    return system"
   ]
  },
  {
   "cell_type": "code",
   "execution_count": 34,
   "metadata": {},
   "outputs": [],
   "source": [
    "A = sp.Matrix([[0, 1, 0], [1, 0 , 1], [0, -1, -5]])\n",
    "B = sp.Matrix([0,0,1])"
   ]
  },
  {
   "cell_type": "code",
   "execution_count": 35,
   "metadata": {},
   "outputs": [
    {
     "data": {
      "text/plain": [
       "Matrix([\n",
       "[0,  1,  0],\n",
       "[1,  0,  1],\n",
       "[0, -1, -5]])"
      ]
     },
     "execution_count": 35,
     "metadata": {},
     "output_type": "execute_result"
    }
   ],
   "source": [
    "A"
   ]
  },
  {
   "cell_type": "code",
   "execution_count": 36,
   "metadata": {},
   "outputs": [
    {
     "data": {
      "text/plain": [
       "Matrix([\n",
       "[0],\n",
       "[0],\n",
       "[1]])"
      ]
     },
     "execution_count": 36,
     "metadata": {},
     "output_type": "execute_result"
    }
   ],
   "source": [
    "B"
   ]
  },
  {
   "cell_type": "code",
   "execution_count": 37,
   "metadata": {},
   "outputs": [],
   "source": [
    "C = B\n",
    "C = C.row_join(A*B)\n",
    "C = C.row_join(A*A*B)"
   ]
  },
  {
   "cell_type": "code",
   "execution_count": 38,
   "metadata": {},
   "outputs": [
    {
     "data": {
      "text/plain": [
       "Matrix([\n",
       "[0,  0,  1],\n",
       "[0,  1, -5],\n",
       "[1, -5, 24]])"
      ]
     },
     "execution_count": 38,
     "metadata": {},
     "output_type": "execute_result"
    }
   ],
   "source": [
    "C"
   ]
  },
  {
   "cell_type": "code",
   "execution_count": 39,
   "metadata": {},
   "outputs": [
    {
     "data": {
      "text/plain": [
       "3"
      ]
     },
     "execution_count": 39,
     "metadata": {},
     "output_type": "execute_result"
    }
   ],
   "source": [
    "C.rank()"
   ]
  },
  {
   "cell_type": "code",
   "execution_count": 40,
   "metadata": {},
   "outputs": [],
   "source": [
    "C_inv = C.inv()"
   ]
  },
  {
   "cell_type": "code",
   "execution_count": 41,
   "metadata": {},
   "outputs": [
    {
     "data": {
      "text/plain": [
       "Matrix([\n",
       "[1, 5, 1],\n",
       "[5, 1, 0],\n",
       "[1, 0, 0]])"
      ]
     },
     "execution_count": 41,
     "metadata": {},
     "output_type": "execute_result"
    }
   ],
   "source": [
    "C_inv"
   ]
  },
  {
   "cell_type": "code",
   "execution_count": 42,
   "metadata": {},
   "outputs": [],
   "source": [
    "A1 = C_inv * A * C"
   ]
  },
  {
   "cell_type": "code",
   "execution_count": 43,
   "metadata": {},
   "outputs": [
    {
     "data": {
      "text/plain": [
       "Matrix([\n",
       "[0, 0,  5],\n",
       "[1, 0,  0],\n",
       "[0, 1, -5]])"
      ]
     },
     "execution_count": 43,
     "metadata": {},
     "output_type": "execute_result"
    }
   ],
   "source": [
    "A1"
   ]
  },
  {
   "cell_type": "code",
   "execution_count": 44,
   "metadata": {},
   "outputs": [
    {
     "data": {
      "text/plain": [
       "'\\\\left[\\\\begin{matrix}0 & 0 & 5\\\\\\\\1 & 0 & 0\\\\\\\\0 & 1 & -5\\\\end{matrix}\\\\right]'"
      ]
     },
     "execution_count": 44,
     "metadata": {},
     "output_type": "execute_result"
    }
   ],
   "source": [
    "sp.latex(A1)"
   ]
  },
  {
   "cell_type": "code",
   "execution_count": 45,
   "metadata": {},
   "outputs": [],
   "source": [
    "B1 = C_inv * B"
   ]
  },
  {
   "cell_type": "code",
   "execution_count": 46,
   "metadata": {},
   "outputs": [
    {
     "data": {
      "text/plain": [
       "Matrix([\n",
       "[1],\n",
       "[0],\n",
       "[0]])"
      ]
     },
     "execution_count": 46,
     "metadata": {},
     "output_type": "execute_result"
    }
   ],
   "source": [
    "B1"
   ]
  },
  {
   "cell_type": "code",
   "execution_count": 47,
   "metadata": {},
   "outputs": [
    {
     "data": {
      "text/plain": [
       "'\\\\left[\\\\begin{matrix}1\\\\\\\\0\\\\\\\\0\\\\end{matrix}\\\\right]'"
      ]
     },
     "execution_count": 47,
     "metadata": {},
     "output_type": "execute_result"
    }
   ],
   "source": [
    "sp.latex(B1)"
   ]
  },
  {
   "cell_type": "code",
   "execution_count": 52,
   "metadata": {},
   "outputs": [
    {
     "data": {
      "text/plain": [
       "Matrix([\n",
       "[ 1],\n",
       "[-5],\n",
       "[24]])"
      ]
     },
     "execution_count": 52,
     "metadata": {},
     "output_type": "execute_result"
    }
   ],
   "source": [
    "A2 = A1.transpose()\n",
    "# B2 = B1.inv()\n",
    "A*B\n",
    "A * A * B"
   ]
  },
  {
   "cell_type": "code",
   "execution_count": null,
   "metadata": {},
   "outputs": [],
   "source": [
    "B2"
   ]
  },
  {
   "cell_type": "code",
   "execution_count": null,
   "metadata": {},
   "outputs": [],
   "source": [
    "for i in A.eigenvals().keys():\n",
    "    print(i.evalf())"
   ]
  },
  {
   "cell_type": "markdown",
   "metadata": {},
   "source": [
    "### (В) Пара собственных чисел $\\lambda_{2} \\approx -1.138$ и $\\lambda_{3} \\approx 0.919$ перешла в пару комплексно сопряженных чисел $-1.5 \\pm 2.4i$ в левой полуплоскости комплексной плоскости "
   ]
  },
  {
   "cell_type": "markdown",
   "metadata": {},
   "source": [
    "Запишем модель в виде:\n",
    "\n",
    "$\\dot x = \\left[\\begin{matrix}0 & 1 & 0\\\\1 & 0 & 1\\\\0 & -1 & -5\\end{matrix}\\right]x + \\left[\\begin{matrix}0\\\\0\\\\1\\end{matrix}\\right]u $\n",
    "\n",
    "Найдем матрицу $C\\{A, B\\}$:\n",
    "\n",
    "$A * B = \\left[\\begin{matrix}0 & 1 & 0\\\\1 & 0 & 1\\\\0 & -1 & -5\\end{matrix}\\right] *  \\left[\\begin{matrix}0\\\\0\\\\1\\end{matrix}\\right] = \\left[\\begin{matrix}0\\\\1\\\\-5\\end{matrix}\\right]$\n",
    "\n",
    "$A^2 = \\left[\\begin{matrix}0 & 1 & 0\\\\1 & 0 & 1\\\\0 & -1 & -5\\end{matrix}\\right] * \\left[\\begin{matrix}0 & 1 & 0\\\\1 & 0 & 1\\\\0 & -1 & -5\\end{matrix}\\right] = \\left[\\begin{matrix}1 & 0 & 1\\\\0 & 0 & -5\\\\-1 & 5 & 24\\end{matrix}\\right]$\n",
    "\n",
    "$A^2 * B = \\left[\\begin{matrix}1 & 0 & 1\\\\0 & 0 & -5\\\\-1 & 5 & 24\\end{matrix}\\right] *  \\left[\\begin{matrix}0\\\\0\\\\1\\end{matrix}\\right] = \\left[\\begin{matrix}1\\\\-5\\\\24\\end{matrix}\\right]$\n",
    "\n",
    "$ C\\{A, B\\} = \\{B, AB, A^2B\\} = \\left[\\begin{matrix}0 & 0 & 1\\\\0 & 1 & -5\\\\1 & -5 & 24\\end{matrix}\\right]$\n",
    "\n",
    "Её ранг:\n",
    "\n",
    "$rank C\\{A, B\\} = 3$ \n",
    "\n",
    "Отсюда делаем вывод, что система управляема.\n",
    "\n",
    "Найдем $V_{2}$ и $V_{3}$ – левые собственные векторы матрицы $A$, соответствующие $\\lambda_{2} \\approx -1.138$ и $\\lambda_{3} \\approx 0.919$:\n",
    "\n",
    "Сначала $V_{2}$:\n",
    "\n",
    "$V^T_{2}A = -1.138V^T_{2}$\n",
    "\n",
    "Запишем в компонентной форме:\n",
    "\n",
    "$\\left\\{\n",
    "  \\begin{array}{ccc}\n",
    "    V_{2} =  \\\\\n",
    "    V_{1} + V_{3} =  \\\\\n",
    "    V_{1} - 5\n",
    "  \\end{array}\n",
    "\\right.$\n"
   ]
  },
  {
   "cell_type": "code",
   "execution_count": null,
   "metadata": {},
   "outputs": [],
   "source": []
  }
 ],
 "metadata": {
  "kernelspec": {
   "display_name": "Python 3",
   "language": "python",
   "name": "python3"
  },
  "language_info": {
   "codemirror_mode": {
    "name": "ipython",
    "version": 3
   },
   "file_extension": ".py",
   "mimetype": "text/x-python",
   "name": "python",
   "nbconvert_exporter": "python",
   "pygments_lexer": "ipython3",
   "version": "3.7.1"
  }
 },
 "nbformat": 4,
 "nbformat_minor": 2
}
